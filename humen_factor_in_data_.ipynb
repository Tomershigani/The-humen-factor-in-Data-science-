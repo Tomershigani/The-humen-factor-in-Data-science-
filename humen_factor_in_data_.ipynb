{
  "nbformat": 4,
  "nbformat_minor": 0,
  "metadata": {
    "colab": {
      "provenance": []
    },
    "kernelspec": {
      "name": "python3",
      "display_name": "Python 3"
    },
    "language_info": {
      "name": "python"
    }
  },
  "cells": [
    {
      "cell_type": "code",
      "execution_count": 2,
      "metadata": {
        "id": "olJmri4pbGXf"
      },
      "outputs": [],
      "source": [
        "import pandas as pd\n",
        "import csv\n",
        "import matplotlib.pyplot as plt\n",
        "import numpy as np\n",
        "import seaborn as sns"
      ]
    },
    {
      "cell_type": "code",
      "source": [
        "file1 = 'Research.csv'\n",
        "df = pd.read_csv(file1)\n",
        "df"
      ],
      "metadata": {
        "id": "ADhp15i5b3Nl",
        "colab": {
          "base_uri": "https://localhost:8080/",
          "height": 522
        },
        "outputId": "d7d162cf-3441-47d8-86e4-7f7331446db5"
      },
      "execution_count": 3,
      "outputs": [
        {
          "output_type": "execute_result",
          "data": {
            "text/plain": [
              "    Q1_1_trans  Q1_2_trans  Q1_3_trans  Q1_4_trans  Q1_5_trans  Q1_6_trans  \\\n",
              "0            1         1.0         7.0         1.0         1.0         5.0   \n",
              "1            2         2.0         2.0         1.0         3.0         2.0   \n",
              "2            2         1.0         1.0         1.0         1.0         2.0   \n",
              "3            1         1.0         1.0         1.0         4.0         4.0   \n",
              "4            1         7.0         7.0         3.0         5.0         7.0   \n",
              "..         ...         ...         ...         ...         ...         ...   \n",
              "74           2         5.0         6.0         4.0         6.0         6.0   \n",
              "75           6         1.0         1.0         1.0         2.0         5.0   \n",
              "76           2         1.0         1.0         1.0         2.0         4.0   \n",
              "77           1         2.0         2.0         1.0         2.0         3.0   \n",
              "78           3         NaN         NaN         NaN         NaN         NaN   \n",
              "\n",
              "    Q1_7_trans  Q1_8_trans  Q1_9_trans  Q1_10_homoster  ...  Q1_40_homocog  \\\n",
              "0          2.0         1.0         1.0             1.0  ...            7.0   \n",
              "1          1.0         1.0         2.0             1.0  ...            6.0   \n",
              "2          1.0         1.0         1.0             1.0  ...            7.0   \n",
              "3          1.0         2.0         1.0             1.0  ...            4.0   \n",
              "4          3.0         7.0         7.0             2.0  ...            6.0   \n",
              "..         ...         ...         ...             ...  ...            ...   \n",
              "74         5.0         6.0         6.0             7.0  ...            2.0   \n",
              "75         4.0         3.0         5.0             1.0  ...            7.0   \n",
              "76         1.0         1.0         2.0             1.0  ...            7.0   \n",
              "77         2.0         2.0         3.0             1.0  ...            7.0   \n",
              "78         NaN         NaN         NaN             NaN  ...            NaN   \n",
              "\n",
              "    Q1_41_homocog  Q1_42_homocog  Q1_43_homocog  gender  Q5_1 - AGE  \\\n",
              "0             7.0            6.0            7.0       1          80   \n",
              "1             6.0            4.0            6.0       1          27   \n",
              "2             7.0            7.0            7.0       2          56   \n",
              "3             7.0            7.0            7.0       2          24   \n",
              "4             5.0            5.0            6.0       1          47   \n",
              "..            ...            ...            ...     ...         ...   \n",
              "74            3.0            3.0            2.0       1          31   \n",
              "75            7.0            4.0            7.0       1          32   \n",
              "76            7.0            7.0            7.0       1          23   \n",
              "77            7.0            6.0            7.0       1          24   \n",
              "78            NaN            NaN            NaN       1          37   \n",
              "\n",
              "    Q1_25_homonega_NEW  Q1_27_homonega_NEW  Q1_28_homonega_NEW  \\\n",
              "0                    0                   0                   0   \n",
              "1                    0                   1                   1   \n",
              "2                    0                   0                   0   \n",
              "3                    3                   0                   0   \n",
              "4                    0                   1                   4   \n",
              "..                 ...                 ...                 ...   \n",
              "74                   7                   4                   4   \n",
              "75                   7                   0                   0   \n",
              "76                   7                   0                   0   \n",
              "77                   7                   0                   0   \n",
              "78                   7                   7                   7   \n",
              "\n",
              "    Q1_39_homocog_NEW  \n",
              "0                   0  \n",
              "1                   1  \n",
              "2                   0  \n",
              "3                   1  \n",
              "4                   2  \n",
              "..                ...  \n",
              "74                  3  \n",
              "75                  0  \n",
              "76                  0  \n",
              "77                  0  \n",
              "78                  7  \n",
              "\n",
              "[79 rows x 49 columns]"
            ],
            "text/html": [
              "\n",
              "  <div id=\"df-a973cb6d-fb39-42b5-aea0-7e74968bbc3e\">\n",
              "    <div class=\"colab-df-container\">\n",
              "      <div>\n",
              "<style scoped>\n",
              "    .dataframe tbody tr th:only-of-type {\n",
              "        vertical-align: middle;\n",
              "    }\n",
              "\n",
              "    .dataframe tbody tr th {\n",
              "        vertical-align: top;\n",
              "    }\n",
              "\n",
              "    .dataframe thead th {\n",
              "        text-align: right;\n",
              "    }\n",
              "</style>\n",
              "<table border=\"1\" class=\"dataframe\">\n",
              "  <thead>\n",
              "    <tr style=\"text-align: right;\">\n",
              "      <th></th>\n",
              "      <th>Q1_1_trans</th>\n",
              "      <th>Q1_2_trans</th>\n",
              "      <th>Q1_3_trans</th>\n",
              "      <th>Q1_4_trans</th>\n",
              "      <th>Q1_5_trans</th>\n",
              "      <th>Q1_6_trans</th>\n",
              "      <th>Q1_7_trans</th>\n",
              "      <th>Q1_8_trans</th>\n",
              "      <th>Q1_9_trans</th>\n",
              "      <th>Q1_10_homoster</th>\n",
              "      <th>...</th>\n",
              "      <th>Q1_40_homocog</th>\n",
              "      <th>Q1_41_homocog</th>\n",
              "      <th>Q1_42_homocog</th>\n",
              "      <th>Q1_43_homocog</th>\n",
              "      <th>gender</th>\n",
              "      <th>Q5_1 - AGE</th>\n",
              "      <th>Q1_25_homonega_NEW</th>\n",
              "      <th>Q1_27_homonega_NEW</th>\n",
              "      <th>Q1_28_homonega_NEW</th>\n",
              "      <th>Q1_39_homocog_NEW</th>\n",
              "    </tr>\n",
              "  </thead>\n",
              "  <tbody>\n",
              "    <tr>\n",
              "      <th>0</th>\n",
              "      <td>1</td>\n",
              "      <td>1.0</td>\n",
              "      <td>7.0</td>\n",
              "      <td>1.0</td>\n",
              "      <td>1.0</td>\n",
              "      <td>5.0</td>\n",
              "      <td>2.0</td>\n",
              "      <td>1.0</td>\n",
              "      <td>1.0</td>\n",
              "      <td>1.0</td>\n",
              "      <td>...</td>\n",
              "      <td>7.0</td>\n",
              "      <td>7.0</td>\n",
              "      <td>6.0</td>\n",
              "      <td>7.0</td>\n",
              "      <td>1</td>\n",
              "      <td>80</td>\n",
              "      <td>0</td>\n",
              "      <td>0</td>\n",
              "      <td>0</td>\n",
              "      <td>0</td>\n",
              "    </tr>\n",
              "    <tr>\n",
              "      <th>1</th>\n",
              "      <td>2</td>\n",
              "      <td>2.0</td>\n",
              "      <td>2.0</td>\n",
              "      <td>1.0</td>\n",
              "      <td>3.0</td>\n",
              "      <td>2.0</td>\n",
              "      <td>1.0</td>\n",
              "      <td>1.0</td>\n",
              "      <td>2.0</td>\n",
              "      <td>1.0</td>\n",
              "      <td>...</td>\n",
              "      <td>6.0</td>\n",
              "      <td>6.0</td>\n",
              "      <td>4.0</td>\n",
              "      <td>6.0</td>\n",
              "      <td>1</td>\n",
              "      <td>27</td>\n",
              "      <td>0</td>\n",
              "      <td>1</td>\n",
              "      <td>1</td>\n",
              "      <td>1</td>\n",
              "    </tr>\n",
              "    <tr>\n",
              "      <th>2</th>\n",
              "      <td>2</td>\n",
              "      <td>1.0</td>\n",
              "      <td>1.0</td>\n",
              "      <td>1.0</td>\n",
              "      <td>1.0</td>\n",
              "      <td>2.0</td>\n",
              "      <td>1.0</td>\n",
              "      <td>1.0</td>\n",
              "      <td>1.0</td>\n",
              "      <td>1.0</td>\n",
              "      <td>...</td>\n",
              "      <td>7.0</td>\n",
              "      <td>7.0</td>\n",
              "      <td>7.0</td>\n",
              "      <td>7.0</td>\n",
              "      <td>2</td>\n",
              "      <td>56</td>\n",
              "      <td>0</td>\n",
              "      <td>0</td>\n",
              "      <td>0</td>\n",
              "      <td>0</td>\n",
              "    </tr>\n",
              "    <tr>\n",
              "      <th>3</th>\n",
              "      <td>1</td>\n",
              "      <td>1.0</td>\n",
              "      <td>1.0</td>\n",
              "      <td>1.0</td>\n",
              "      <td>4.0</td>\n",
              "      <td>4.0</td>\n",
              "      <td>1.0</td>\n",
              "      <td>2.0</td>\n",
              "      <td>1.0</td>\n",
              "      <td>1.0</td>\n",
              "      <td>...</td>\n",
              "      <td>4.0</td>\n",
              "      <td>7.0</td>\n",
              "      <td>7.0</td>\n",
              "      <td>7.0</td>\n",
              "      <td>2</td>\n",
              "      <td>24</td>\n",
              "      <td>3</td>\n",
              "      <td>0</td>\n",
              "      <td>0</td>\n",
              "      <td>1</td>\n",
              "    </tr>\n",
              "    <tr>\n",
              "      <th>4</th>\n",
              "      <td>1</td>\n",
              "      <td>7.0</td>\n",
              "      <td>7.0</td>\n",
              "      <td>3.0</td>\n",
              "      <td>5.0</td>\n",
              "      <td>7.0</td>\n",
              "      <td>3.0</td>\n",
              "      <td>7.0</td>\n",
              "      <td>7.0</td>\n",
              "      <td>2.0</td>\n",
              "      <td>...</td>\n",
              "      <td>6.0</td>\n",
              "      <td>5.0</td>\n",
              "      <td>5.0</td>\n",
              "      <td>6.0</td>\n",
              "      <td>1</td>\n",
              "      <td>47</td>\n",
              "      <td>0</td>\n",
              "      <td>1</td>\n",
              "      <td>4</td>\n",
              "      <td>2</td>\n",
              "    </tr>\n",
              "    <tr>\n",
              "      <th>...</th>\n",
              "      <td>...</td>\n",
              "      <td>...</td>\n",
              "      <td>...</td>\n",
              "      <td>...</td>\n",
              "      <td>...</td>\n",
              "      <td>...</td>\n",
              "      <td>...</td>\n",
              "      <td>...</td>\n",
              "      <td>...</td>\n",
              "      <td>...</td>\n",
              "      <td>...</td>\n",
              "      <td>...</td>\n",
              "      <td>...</td>\n",
              "      <td>...</td>\n",
              "      <td>...</td>\n",
              "      <td>...</td>\n",
              "      <td>...</td>\n",
              "      <td>...</td>\n",
              "      <td>...</td>\n",
              "      <td>...</td>\n",
              "      <td>...</td>\n",
              "    </tr>\n",
              "    <tr>\n",
              "      <th>74</th>\n",
              "      <td>2</td>\n",
              "      <td>5.0</td>\n",
              "      <td>6.0</td>\n",
              "      <td>4.0</td>\n",
              "      <td>6.0</td>\n",
              "      <td>6.0</td>\n",
              "      <td>5.0</td>\n",
              "      <td>6.0</td>\n",
              "      <td>6.0</td>\n",
              "      <td>7.0</td>\n",
              "      <td>...</td>\n",
              "      <td>2.0</td>\n",
              "      <td>3.0</td>\n",
              "      <td>3.0</td>\n",
              "      <td>2.0</td>\n",
              "      <td>1</td>\n",
              "      <td>31</td>\n",
              "      <td>7</td>\n",
              "      <td>4</td>\n",
              "      <td>4</td>\n",
              "      <td>3</td>\n",
              "    </tr>\n",
              "    <tr>\n",
              "      <th>75</th>\n",
              "      <td>6</td>\n",
              "      <td>1.0</td>\n",
              "      <td>1.0</td>\n",
              "      <td>1.0</td>\n",
              "      <td>2.0</td>\n",
              "      <td>5.0</td>\n",
              "      <td>4.0</td>\n",
              "      <td>3.0</td>\n",
              "      <td>5.0</td>\n",
              "      <td>1.0</td>\n",
              "      <td>...</td>\n",
              "      <td>7.0</td>\n",
              "      <td>7.0</td>\n",
              "      <td>4.0</td>\n",
              "      <td>7.0</td>\n",
              "      <td>1</td>\n",
              "      <td>32</td>\n",
              "      <td>7</td>\n",
              "      <td>0</td>\n",
              "      <td>0</td>\n",
              "      <td>0</td>\n",
              "    </tr>\n",
              "    <tr>\n",
              "      <th>76</th>\n",
              "      <td>2</td>\n",
              "      <td>1.0</td>\n",
              "      <td>1.0</td>\n",
              "      <td>1.0</td>\n",
              "      <td>2.0</td>\n",
              "      <td>4.0</td>\n",
              "      <td>1.0</td>\n",
              "      <td>1.0</td>\n",
              "      <td>2.0</td>\n",
              "      <td>1.0</td>\n",
              "      <td>...</td>\n",
              "      <td>7.0</td>\n",
              "      <td>7.0</td>\n",
              "      <td>7.0</td>\n",
              "      <td>7.0</td>\n",
              "      <td>1</td>\n",
              "      <td>23</td>\n",
              "      <td>7</td>\n",
              "      <td>0</td>\n",
              "      <td>0</td>\n",
              "      <td>0</td>\n",
              "    </tr>\n",
              "    <tr>\n",
              "      <th>77</th>\n",
              "      <td>1</td>\n",
              "      <td>2.0</td>\n",
              "      <td>2.0</td>\n",
              "      <td>1.0</td>\n",
              "      <td>2.0</td>\n",
              "      <td>3.0</td>\n",
              "      <td>2.0</td>\n",
              "      <td>2.0</td>\n",
              "      <td>3.0</td>\n",
              "      <td>1.0</td>\n",
              "      <td>...</td>\n",
              "      <td>7.0</td>\n",
              "      <td>7.0</td>\n",
              "      <td>6.0</td>\n",
              "      <td>7.0</td>\n",
              "      <td>1</td>\n",
              "      <td>24</td>\n",
              "      <td>7</td>\n",
              "      <td>0</td>\n",
              "      <td>0</td>\n",
              "      <td>0</td>\n",
              "    </tr>\n",
              "    <tr>\n",
              "      <th>78</th>\n",
              "      <td>3</td>\n",
              "      <td>NaN</td>\n",
              "      <td>NaN</td>\n",
              "      <td>NaN</td>\n",
              "      <td>NaN</td>\n",
              "      <td>NaN</td>\n",
              "      <td>NaN</td>\n",
              "      <td>NaN</td>\n",
              "      <td>NaN</td>\n",
              "      <td>NaN</td>\n",
              "      <td>...</td>\n",
              "      <td>NaN</td>\n",
              "      <td>NaN</td>\n",
              "      <td>NaN</td>\n",
              "      <td>NaN</td>\n",
              "      <td>1</td>\n",
              "      <td>37</td>\n",
              "      <td>7</td>\n",
              "      <td>7</td>\n",
              "      <td>7</td>\n",
              "      <td>7</td>\n",
              "    </tr>\n",
              "  </tbody>\n",
              "</table>\n",
              "<p>79 rows × 49 columns</p>\n",
              "</div>\n",
              "      <button class=\"colab-df-convert\" onclick=\"convertToInteractive('df-a973cb6d-fb39-42b5-aea0-7e74968bbc3e')\"\n",
              "              title=\"Convert this dataframe to an interactive table.\"\n",
              "              style=\"display:none;\">\n",
              "        \n",
              "  <svg xmlns=\"http://www.w3.org/2000/svg\" height=\"24px\"viewBox=\"0 0 24 24\"\n",
              "       width=\"24px\">\n",
              "    <path d=\"M0 0h24v24H0V0z\" fill=\"none\"/>\n",
              "    <path d=\"M18.56 5.44l.94 2.06.94-2.06 2.06-.94-2.06-.94-.94-2.06-.94 2.06-2.06.94zm-11 1L8.5 8.5l.94-2.06 2.06-.94-2.06-.94L8.5 2.5l-.94 2.06-2.06.94zm10 10l.94 2.06.94-2.06 2.06-.94-2.06-.94-.94-2.06-.94 2.06-2.06.94z\"/><path d=\"M17.41 7.96l-1.37-1.37c-.4-.4-.92-.59-1.43-.59-.52 0-1.04.2-1.43.59L10.3 9.45l-7.72 7.72c-.78.78-.78 2.05 0 2.83L4 21.41c.39.39.9.59 1.41.59.51 0 1.02-.2 1.41-.59l7.78-7.78 2.81-2.81c.8-.78.8-2.07 0-2.86zM5.41 20L4 18.59l7.72-7.72 1.47 1.35L5.41 20z\"/>\n",
              "  </svg>\n",
              "      </button>\n",
              "      \n",
              "  <style>\n",
              "    .colab-df-container {\n",
              "      display:flex;\n",
              "      flex-wrap:wrap;\n",
              "      gap: 12px;\n",
              "    }\n",
              "\n",
              "    .colab-df-convert {\n",
              "      background-color: #E8F0FE;\n",
              "      border: none;\n",
              "      border-radius: 50%;\n",
              "      cursor: pointer;\n",
              "      display: none;\n",
              "      fill: #1967D2;\n",
              "      height: 32px;\n",
              "      padding: 0 0 0 0;\n",
              "      width: 32px;\n",
              "    }\n",
              "\n",
              "    .colab-df-convert:hover {\n",
              "      background-color: #E2EBFA;\n",
              "      box-shadow: 0px 1px 2px rgba(60, 64, 67, 0.3), 0px 1px 3px 1px rgba(60, 64, 67, 0.15);\n",
              "      fill: #174EA6;\n",
              "    }\n",
              "\n",
              "    [theme=dark] .colab-df-convert {\n",
              "      background-color: #3B4455;\n",
              "      fill: #D2E3FC;\n",
              "    }\n",
              "\n",
              "    [theme=dark] .colab-df-convert:hover {\n",
              "      background-color: #434B5C;\n",
              "      box-shadow: 0px 1px 3px 1px rgba(0, 0, 0, 0.15);\n",
              "      filter: drop-shadow(0px 1px 2px rgba(0, 0, 0, 0.3));\n",
              "      fill: #FFFFFF;\n",
              "    }\n",
              "  </style>\n",
              "\n",
              "      <script>\n",
              "        const buttonEl =\n",
              "          document.querySelector('#df-a973cb6d-fb39-42b5-aea0-7e74968bbc3e button.colab-df-convert');\n",
              "        buttonEl.style.display =\n",
              "          google.colab.kernel.accessAllowed ? 'block' : 'none';\n",
              "\n",
              "        async function convertToInteractive(key) {\n",
              "          const element = document.querySelector('#df-a973cb6d-fb39-42b5-aea0-7e74968bbc3e');\n",
              "          const dataTable =\n",
              "            await google.colab.kernel.invokeFunction('convertToInteractive',\n",
              "                                                     [key], {});\n",
              "          if (!dataTable) return;\n",
              "\n",
              "          const docLinkHtml = 'Like what you see? Visit the ' +\n",
              "            '<a target=\"_blank\" href=https://colab.research.google.com/notebooks/data_table.ipynb>data table notebook</a>'\n",
              "            + ' to learn more about interactive tables.';\n",
              "          element.innerHTML = '';\n",
              "          dataTable['output_type'] = 'display_data';\n",
              "          await google.colab.output.renderOutput(dataTable, element);\n",
              "          const docLink = document.createElement('div');\n",
              "          docLink.innerHTML = docLinkHtml;\n",
              "          element.appendChild(docLink);\n",
              "        }\n",
              "      </script>\n",
              "    </div>\n",
              "  </div>\n",
              "  "
            ]
          },
          "metadata": {},
          "execution_count": 3
        }
      ]
    },
    {
      "cell_type": "code",
      "source": [
        "column_names = list(df.columns.values)\n",
        "ster_list =['Q1_19_homoster','Q1_18_homoster','Q1_17_homoster','Q1_16_homoster','Q1_15_homoster','Q1_14_homoster','Q1_13_homoster','Q1_12_homoster'\n",
        ",'Q1_11_homoster','Q1_10_homoster','gender','Q5_1 - AGE','Q1_25_homonega','Q1_27_homonega','Q1_28_homonega','Q1_39_homocog']\n",
        "for i in ster_list:\n",
        "  column_names.remove(i)\n",
        "\n",
        "homopobdf = df[column_names]\n",
        "\n",
        "av_row = homopobdf.mean(axis=1)\n",
        "\n",
        "ster_list =['Q1_19_homoster','Q1_18_homoster','Q1_17_homoster','Q1_16_homoster','Q1_15_homoster','Q1_14_homoster','Q1_13_homoster','Q1_12_homoster'\n",
        ",'Q1_11_homoster','Q1_10_homoster']\n",
        "\n",
        "df_ster = df [ster_list]\n",
        "\n",
        "av_row_ster = df_ster.mean(axis=1)\n"
      ],
      "metadata": {
        "id": "NFV0uUIo6hkR"
      },
      "execution_count": 12,
      "outputs": []
    },
    {
      "cell_type": "code",
      "source": [
        "import statistics\n",
        "\n",
        "#Cronbach alpha \n",
        "\n",
        "ster_list_neg =['Q1_17_homoster','Q1_16_homoster','Q1_15_homoster','Q1_14_homoster','Q1_13_homoster','Q1_12_homoster'\n",
        ",'Q1_10_homoster']\n",
        "\n",
        "df_ster_neg = df [ster_list_neg]\n",
        "\n",
        "sum_var = 0\n",
        "first = df['Q1_17_homoster']\n",
        "for i in ster_list:\n",
        "  sum_var = sum_var + (df[i].var())\n",
        "  if i != 'Q1_17_homoster':\n",
        "   first = first +df[i]\n",
        "\n",
        "res = first.var()\n",
        "x = (10/9)*(1-(sum_var/res))\n",
        "\n",
        "print(\"The cronbach alpha for homophobic stereotypes questionnaire is:\",x)\n"
      ],
      "metadata": {
        "colab": {
          "base_uri": "https://localhost:8080/"
        },
        "id": "y1UY53JFBuOb",
        "outputId": "70783b7a-8eeb-45f4-8fe7-689bd3986d32"
      },
      "execution_count": 13,
      "outputs": [
        {
          "output_type": "stream",
          "name": "stdout",
          "text": [
            "The cronbach alpha for homophobic stereotypes questionnaire is: 0.8646297941968882\n"
          ]
        }
      ]
    },
    {
      "cell_type": "code",
      "source": [
        "sum_var2 =0\n",
        "first_trans = df['Q1_1_trans']\n",
        "\n",
        "for i in column_names :\n",
        "  sum_var2 = sum_var2 + (df[i].var())\n",
        "  if i != 'Q1_1_trans':\n",
        "   first_trans = first_trans +df[i]\n",
        "res2 = first_trans.var()\n",
        "x = (33/32)*(1-(sum_var2/res2))\n",
        "\n",
        "print(\"The cronbach alpha for homophobic stereotypes questionnaire is:\",x)\n"
      ],
      "metadata": {
        "colab": {
          "base_uri": "https://localhost:8080/"
        },
        "id": "EKPypwYFRjCU",
        "outputId": "f498db3c-49b7-4c44-c9f8-c7eeb20e6c96"
      },
      "execution_count": 14,
      "outputs": [
        {
          "output_type": "stream",
          "name": "stdout",
          "text": [
            "The cronbach alpha for homophobic stereotypes questionnaire is: 0.8619112715639089\n"
          ]
        }
      ]
    },
    {
      "cell_type": "code",
      "source": [
        "av_row_ster_neg = df_ster_neg.mean(axis=1)\n",
        "age_df = df['Q5_1 - AGE']\n",
        "age_df.value_counts()"
      ],
      "metadata": {
        "colab": {
          "base_uri": "https://localhost:8080/"
        },
        "id": "KKLpzpHdjFYm",
        "outputId": "39062abc-2d2e-474c-e385-28118399acf0"
      },
      "execution_count": 15,
      "outputs": [
        {
          "output_type": "execute_result",
          "data": {
            "text/plain": [
              "24    6\n",
              "31    5\n",
              "29    5\n",
              "25    5\n",
              "23    4\n",
              "32    3\n",
              "47    3\n",
              "38    3\n",
              "27    3\n",
              "36    3\n",
              "54    2\n",
              "28    2\n",
              "40    2\n",
              "35    2\n",
              "39    2\n",
              "66    2\n",
              "37    2\n",
              "26    2\n",
              "20    2\n",
              "55    2\n",
              "68    1\n",
              "51    1\n",
              "58    1\n",
              "53    1\n",
              "30    1\n",
              "34    1\n",
              "50    1\n",
              "69    1\n",
              "80    1\n",
              "18    1\n",
              "59    1\n",
              "46    1\n",
              "41    1\n",
              "42    1\n",
              "60    1\n",
              "57    1\n",
              "22    1\n",
              "56    1\n",
              "64    1\n",
              "Name: Q5_1 - AGE, dtype: int64"
            ]
          },
          "metadata": {},
          "execution_count": 15
        }
      ]
    },
    {
      "cell_type": "code",
      "source": [
        "import seaborn as sns\n",
        "\n",
        "# use the function regplot to make a scatterplot\n",
        "sns.regplot(x=av_row_ster, y=av_row,color ='teal').set(xlabel='General stereotypes rate',ylabel ='Homophobia rate') "
      ],
      "metadata": {
        "colab": {
          "base_uri": "https://localhost:8080/",
          "height": 297
        },
        "id": "qGkzR6aom1Fn",
        "outputId": "58efce9b-f960-4f03-fe85-3a44a6401aa9"
      },
      "execution_count": null,
      "outputs": [
        {
          "output_type": "execute_result",
          "data": {
            "text/plain": [
              "[Text(0, 0.5, 'Homophobia rate'), Text(0.5, 0, 'General stereotypes rate')]"
            ]
          },
          "metadata": {},
          "execution_count": 13
        },
        {
          "output_type": "display_data",
          "data": {
            "text/plain": [
              "<Figure size 432x288 with 1 Axes>"
            ],
            "image/png": "[encoded data removed]"
          },
          "metadata": {
            "needs_background": "light"
          }
        }
      ]
    },
    {
      "cell_type": "code",
      "source": [
        "from scipy.stats import linregress as linregress\n",
        "xl = av_row_ster.to_numpy()\n",
        "xl = xl.tolist()\n",
        "yl = av_row.to_numpy()\n",
        "yl = yl.tolist()\n",
        "xl.pop()\n",
        "yl.pop()\n",
        "result = linregress(x = xl, y =yl)\n",
        "print(\"Liniar reagression rates for all stereotypes:\")\n",
        "result\n"
      ],
      "metadata": {
        "colab": {
          "base_uri": "https://localhost:8080/"
        },
        "id": "uFepk5V28QSO",
        "outputId": "40ab908a-f27a-4bb7-f9db-49c0d0ef596a"
      },
      "execution_count": 23,
      "outputs": [
        {
          "output_type": "stream",
          "name": "stdout",
          "text": [
            "Liniar reagression rates for all stereotypes:\n"
          ]
        },
        {
          "output_type": "execute_result",
          "data": {
            "text/plain": [
              "LinregressResult(slope=0.4398959763946431, intercept=1.2964403460785339, rvalue=0.7004180782595697, pvalue=9.502803656278147e-13, stderr=0.0514187487933718, intercept_stderr=0.14968384579016106)"
            ]
          },
          "metadata": {},
          "execution_count": 23
        }
      ]
    },
    {
      "cell_type": "code",
      "source": [
        "sns.regplot(x=av_row_ster_neg, y=av_row,color='gold').set(xlabel='Negative stereotypes rate',ylabel ='Homophobia rate') "
      ],
      "metadata": {
        "colab": {
          "base_uri": "https://localhost:8080/",
          "height": 297
        },
        "id": "wA3meLD7wWpP",
        "outputId": "f659333a-72ce-40ca-adaf-0c729ba325d3"
      },
      "execution_count": null,
      "outputs": [
        {
          "output_type": "execute_result",
          "data": {
            "text/plain": [
              "[Text(0, 0.5, 'Homophobia rate'), Text(0.5, 0, 'Negative stereotypes rate')]"
            ]
          },
          "metadata": {},
          "execution_count": 131
        },
        {
          "output_type": "display_data",
          "data": {
            "text/plain": [
              "<Figure size 432x288 with 1 Axes>"
            ],
            "image/png": "[encoded data removed]"
          },
          "metadata": {
            "needs_background": "light"
          }
        }
      ]
    },
    {
      "cell_type": "code",
      "source": [
        "xl = av_row_ster_neg.to_numpy()\n",
        "xl = xl.tolist()\n",
        "yl = av_row.to_numpy()\n",
        "yl = yl.tolist()\n",
        "xl.pop()\n",
        "yl.pop()\n",
        "print(\"Liniar reagression rates for Negative stereotypes:\")\n",
        "linregress(x = xl, y =yl)\n"
      ],
      "metadata": {
        "colab": {
          "base_uri": "https://localhost:8080/"
        },
        "id": "8NahqrZ__gyS",
        "outputId": "bcd6c48c-8d62-4855-a9c7-9065012188e5"
      },
      "execution_count": 21,
      "outputs": [
        {
          "output_type": "stream",
          "name": "stdout",
          "text": [
            "Liniar reagression rates for Negative stereotypes:\n"
          ]
        },
        {
          "output_type": "execute_result",
          "data": {
            "text/plain": [
              "LinregressResult(slope=0.4251360074638628, intercept=1.4021736705843213, rvalue=0.7703897839138631, pvalue=1.6366001419068904e-16, stderr=0.04035902162237642, intercept_stderr=0.11448434222997828)"
            ]
          },
          "metadata": {},
          "execution_count": 21
        }
      ]
    },
    {
      "cell_type": "code",
      "source": [
        "import matplotlib.pyplot as plt\n",
        "\n",
        "sns.regplot(x=av_row_ster, y=av_row,color = 'skyblue').set(xscale='log',xlabel='General stereotypes rate',ylabel ='Homophobia rate',title = 'log scale') \n",
        "sns.regplot(x=av_row_ster_neg, y=av_row,color = 'olive').set(xscale='log',xlabel='Stereotypes rate',ylabel ='Homophobia rate',title = 'log scale') \n",
        "plt.legend(labels=[\"General stereotypes\",\"Negative stereotypes\"])\n",
        "plt.show ()\n"
      ],
      "metadata": {
        "colab": {
          "base_uri": "https://localhost:8080/",
          "height": 299
        },
        "id": "0mKGfCWVt7np",
        "outputId": "6e4f9cb6-402a-46ce-a61b-d985940f4dec"
      },
      "execution_count": null,
      "outputs": [
        {
          "output_type": "display_data",
          "data": {
            "text/plain": [
              "<Figure size 432x288 with 1 Axes>"
            ],
            "image/png": "[encoded data removed]"
          },
          "metadata": {
            "needs_background": "light"
          }
        }
      ]
    }
  ]
}